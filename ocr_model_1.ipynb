{
  "cells": [
    {
      "cell_type": "markdown",
      "metadata": {
        "id": "view-in-github",
        "colab_type": "text"
      },
      "source": [
        "<a href=\"https://colab.research.google.com/github/radipta25/coursera/blob/main/ocr_model_1.ipynb\" target=\"_parent\"><img src=\"https://colab.research.google.com/assets/colab-badge.svg\" alt=\"Open In Colab\"/></a>"
      ]
    },
    {
      "cell_type": "code",
      "execution_count": 1,
      "metadata": {
        "id": "ePBh9AwgT_hb"
      },
      "outputs": [],
      "source": [
        "from google.colab import files, drive\n",
        "import os\n",
        "from tensorflow.keras.preprocessing.image import img_to_array, load_img, ImageDataGenerator\n",
        "from tensorflow.keras.models import *\n",
        "from tensorflow.keras.layers import *\n",
        "import zipfile\n",
        "from tensorflow import keras\n",
        "import tensorflow as tf\n",
        "import cv2\n",
        "import numpy as np\n",
        "import matplotlib.pyplot as plt\n",
        "import csv\n",
        "from keras.datasets import mnist\n",
        "from sklearn.model_selection import train_test_split"
      ]
    },
    {
      "cell_type": "code",
      "execution_count": 2,
      "metadata": {
        "colab": {
          "base_uri": "https://localhost:8080/"
        },
        "id": "_dN-fzzpe2A9",
        "outputId": "21b0e554-d991-4f86-b3f9-9c68b28b3d64"
      },
      "outputs": [
        {
          "output_type": "stream",
          "name": "stdout",
          "text": [
            "Using cuda.\n"
          ]
        }
      ],
      "source": [
        "import torch\n",
        "if torch.cuda.is_available():\n",
        "    device_name = torch.device(\"cuda\")\n",
        "else:\n",
        "    device_name = torch.device('cpu')\n",
        "print(\"Using {}.\".format(device_name))"
      ]
    },
    {
      "cell_type": "code",
      "execution_count": 3,
      "metadata": {
        "id": "hJFpE1pPUKRh",
        "colab": {
          "base_uri": "https://localhost:8080/"
        },
        "outputId": "53c85d2f-5b51-46d6-8a87-e4589b0160e6"
      },
      "outputs": [
        {
          "output_type": "stream",
          "name": "stdout",
          "text": [
            "Drive already mounted at /content/drive; to attempt to forcibly remount, call drive.mount(\"/content/drive\", force_remount=True).\n"
          ]
        }
      ],
      "source": [
        "drive.mount('/content/drive')"
      ]
    },
    {
      "cell_type": "code",
      "execution_count": 4,
      "metadata": {
        "id": "fw9gVrIQXITE"
      },
      "outputs": [],
      "source": [
        "test_local_zip = '/content/drive/MyDrive/ML BANGKIT/handwriten.csv.zip'\n",
        "zip_ref = zipfile.ZipFile(test_local_zip, 'r')\n",
        "zip_ref.extractall('/tmp/dataset')\n",
        "\n",
        "zip_ref.close()"
      ]
    },
    {
      "cell_type": "code",
      "execution_count": 5,
      "metadata": {
        "id": "ilVQ2jgHXjUg",
        "colab": {
          "base_uri": "https://localhost:8080/"
        },
        "outputId": "1805552d-ae9c-4bb6-df8b-e5699a1ce99a"
      },
      "outputs": [
        {
          "output_type": "execute_result",
          "data": {
            "text/plain": [
              "['A_Z Handwritten Data', 'A_Z Handwritten Data.csv']"
            ]
          },
          "metadata": {},
          "execution_count": 5
        }
      ],
      "source": [
        "os.listdir('/tmp/dataset/')"
      ]
    },
    {
      "cell_type": "code",
      "execution_count": 6,
      "metadata": {
        "id": "RA8HRgrwXnKW"
      },
      "outputs": [],
      "source": [
        "alphabet_data = '/tmp/dataset/A_Z Handwritten Data.csv'\n",
        "aZ_data = []\n",
        "aZ_labels = []\n",
        "\n",
        "files = open(alphabet_data)\n",
        "\n",
        "for row in files:\n",
        "  row  = row.split(',')\n",
        "\n",
        "  #append labels. Row 0 = labels / header\n",
        "  aZ_labels.append(int(row[0]))\n",
        "\n",
        "  #append labels. Row 1:\n",
        "  image = np.array([int(x) for x in row[1:]], dtype=\"uint8\")\n",
        "  img = image.reshape((28,28))\n",
        "  aZ_data.append(img)\n",
        "\n",
        "aZ_labels = np.array(aZ_labels, dtype = 'int')\n",
        "aZ_data = np.array(aZ_data, dtype='float32')"
      ]
    },
    {
      "cell_type": "code",
      "execution_count": 7,
      "metadata": {
        "colab": {
          "base_uri": "https://localhost:8080/"
        },
        "id": "QSNQWZKUaFwS",
        "outputId": "cd505403-74c1-43c0-f951-66dc1d4d5b0f"
      },
      "outputs": [
        {
          "output_type": "stream",
          "name": "stdout",
          "text": [
            "372451\n",
            "372451\n"
          ]
        }
      ],
      "source": [
        "print(len(aZ_labels))\n",
        "print(len(aZ_data))"
      ]
    },
    {
      "cell_type": "code",
      "execution_count": 8,
      "metadata": {
        "colab": {
          "base_uri": "https://localhost:8080/"
        },
        "id": "xMk1bQR1aJm7",
        "outputId": "42c58eba-0480-4f90-f743-4eeaf6c49ec6"
      },
      "outputs": [
        {
          "output_type": "stream",
          "name": "stdout",
          "text": [
            "25\n",
            "(28, 28)\n"
          ]
        }
      ],
      "source": [
        "print(aZ_labels[-1])\n",
        "print(aZ_data[-1].shape)"
      ]
    },
    {
      "cell_type": "code",
      "execution_count": 9,
      "metadata": {
        "colab": {
          "base_uri": "https://localhost:8080/"
        },
        "id": "EvOzcq-paMO5",
        "outputId": "68ef39c3-2976-4255-afe0-9d60fcb0ec62"
      },
      "outputs": [
        {
          "output_type": "stream",
          "name": "stdout",
          "text": [
            "Downloading data from https://storage.googleapis.com/tensorflow/tf-keras-datasets/mnist.npz\n",
            "11490434/11490434 [==============================] - 0s 0us/step\n"
          ]
        }
      ],
      "source": [
        "(train_digit_data, train_digit_labels), (test_digit_data, test_digit_labels) = mnist.load_data()\n",
        "\n",
        "digit_data = np.vstack([train_digit_data, test_digit_data])\n",
        "digit_labels = np.hstack([train_digit_labels, test_digit_labels])\n",
        "     "
      ]
    },
    {
      "cell_type": "code",
      "execution_count": 10,
      "metadata": {
        "colab": {
          "base_uri": "https://localhost:8080/",
          "height": 1000
        },
        "id": "2kYCfT6laRrf",
        "outputId": "e7a56365-21a0-4bee-9c6b-71deec0d393d"
      },
      "outputs": [
        {
          "output_type": "display_data",
          "data": {
            "text/plain": [
              "<Figure size 640x480 with 1 Axes>"
            ],
            "image/png": "[encoded data removed]"
          },
          "metadata": {}
        },
        {
          "output_type": "display_data",
          "data": {
            "text/plain": [
              "<Figure size 640x480 with 1 Axes>"
            ],
            "image/png": "[encoded data removed]"
          },
          "metadata": {}
        },
        {
          "output_type": "display_data",
          "data": {
            "text/plain": [
              "<Figure size 640x480 with 1 Axes>"
            ],
            "image/png": "[encoded data removed]"
          },
          "metadata": {}
        },
        {
          "output_type": "display_data",
          "data": {
            "text/plain": [
              "<Figure size 640x480 with 1 Axes>"
            ],
            "image/png": "[encoded data removed]"
          },
          "metadata": {}
        },
        {
          "output_type": "display_data",
          "data": {
            "text/plain": [
              "<Figure size 640x480 with 1 Axes>"
            ],
            "image/png": "[encoded data removed]"
          },
          "metadata": {}
        },
        {
          "output_type": "display_data",
          "data": {
            "text/plain": [
              "<Figure size 640x480 with 1 Axes>"
            ],
            "image/png": "[encoded data removed]"
          },
          "metadata": {}
        },
        {
          "output_type": "display_data",
          "data": {
            "text/plain": [
              "<Figure size 640x480 with 1 Axes>"
            ],
            "image/png": "[encoded data removed]"
          },
          "metadata": {}
        },
        {
          "output_type": "display_data",
          "data": {
            "text/plain": [
              "<Figure size 640x480 with 1 Axes>"
            ],
            "image/png": "[encoded data removed]"
          },
          "metadata": {}
        },
        {
          "output_type": "display_data",
          "data": {
            "text/plain": [
              "<Figure size 640x480 with 1 Axes>"
            ],
            "image/png": "[encoded data removed]"
          },
          "metadata": {}
        }
      ],
      "source": [
        "from matplotlib import pyplot\n",
        "for i in range(9):  \n",
        "   pyplot.subplot(330 + 1 + i)\n",
        "   pyplot.title('label: {}'.format(digit_labels[i]))\n",
        "   pyplot.imshow(digit_data[i], cmap=pyplot.get_cmap('gray'))\n",
        "   pyplot.show()"
      ]
    },
    {
      "cell_type": "code",
      "execution_count": 11,
      "metadata": {
        "id": "kKm2PiOLad_g"
      },
      "outputs": [],
      "source": [
        "# the MNIST dataset occupies the labels 0-9, so let's add 10 to every A-Z label to ensure the A-Z characters are not incorrectly labeled \n",
        "\n",
        "aZ_labels += 10\n",
        "\n",
        "# stack the A-Z data and labels with the MNIST digits data and labels\n",
        "\n",
        "data = np.vstack([aZ_data, digit_data])\n",
        "labels = np.hstack([aZ_labels, digit_labels])\n",
        "\n",
        "# Each image in the A-Z and MNIST digts datasets are 28x28 pixels;\n",
        "# However, the architecture we're using is designed for 32x32 images,\n",
        "# So we need to resize them to 32x32\n",
        "\n",
        "data = [cv2.resize(image, (32, 32)) for image in data]\n",
        "data = np.array(data, dtype=\"float32\")\n",
        "\n",
        "# add a channel dimension to every image in the dataset and scale the\n",
        "# pixel intensities of the images from [0, 255] down to [0, 1]\n",
        "\n",
        "data = np.expand_dims(data, axis=-1)\n",
        "data /= 255.0"
      ]
    },
    {
      "cell_type": "code",
      "execution_count": 12,
      "metadata": {
        "colab": {
          "base_uri": "https://localhost:8080/"
        },
        "id": "5qFExbrzakeJ",
        "outputId": "8d01d1e8-1b14-4280-a824-9206dcb9429d"
      },
      "outputs": [
        {
          "output_type": "stream",
          "name": "stdout",
          "text": [
            "372451\n"
          ]
        }
      ],
      "source": [
        "print(len(aZ_labels))"
      ]
    },
    {
      "cell_type": "code",
      "execution_count": 13,
      "metadata": {
        "colab": {
          "base_uri": "https://localhost:8080/"
        },
        "id": "3OlkCQVeanq2",
        "outputId": "3b33599d-132d-4f06-c491-e350bf2bc54f"
      },
      "outputs": [
        {
          "output_type": "stream",
          "name": "stdout",
          "text": [
            "amount of data: 442451\n",
            "amount of labels: 442451\n",
            "amount of class: 36\n"
          ]
        }
      ],
      "source": [
        "print(\"amount of data: {}\".format(len(data)))\n",
        "print(\"amount of labels: {}\".format(len(labels)))\n",
        "print(\"amount of class: {}\".format(len(np.unique(labels))))"
      ]
    },
    {
      "cell_type": "code",
      "execution_count": 14,
      "metadata": {
        "id": "kZ8vqyKvarl7"
      },
      "outputs": [],
      "source": [
        "#split data\n",
        "# Split Dataset\n",
        "x_train, x_test, y_train, y_test = train_test_split(data, labels, train_size = 0.8)\n",
        "\n",
        "x_train = np.array(x_train)\n",
        "x_test = np.array(x_test)\n",
        "\n",
        "y_train = np.array(y_train)\n",
        "y_test = np.array(y_test)"
      ]
    },
    {
      "cell_type": "code",
      "execution_count": 15,
      "metadata": {
        "colab": {
          "base_uri": "https://localhost:8080/"
        },
        "id": "dQhaAj91aykR",
        "outputId": "670f0831-c5d8-4a2f-8a99-0729c42e952b"
      },
      "outputs": [
        {
          "output_type": "stream",
          "name": "stdout",
          "text": [
            "amount of train data: 353960\n",
            "amount of test data: 88491\n",
            "shape of data: (32, 32, 1)\n"
          ]
        }
      ],
      "source": [
        "print(\"amount of train data: {}\".format(len(x_train)))\n",
        "print(\"amount of test data: {}\".format(len(x_test)))\n",
        "print(\"shape of data: {}\".format(x_train.shape[1:4]))\n",
        "     "
      ]
    },
    {
      "cell_type": "code",
      "execution_count": 16,
      "metadata": {
        "id": "sBMgNTWGa4FQ"
      },
      "outputs": [],
      "source": [
        "img_size = 32\n",
        "EPOCHS = 100\n",
        "INIT_LR = 1e-1\n",
        "batch_size = 128"
      ]
    },
    {
      "cell_type": "code",
      "execution_count": 17,
      "metadata": {
        "id": "xEQWeofKa8dX"
      },
      "outputs": [],
      "source": [
        "# construct the image generator for data augmentation\n",
        "train_aug = ImageDataGenerator(\n",
        "  rescale = 1./255,\n",
        "  rotation_range=10,\n",
        "  zoom_range=0.05,\n",
        "  width_shift_range=0.1,\n",
        "  height_shift_range=0.1,\n",
        "  shear_range=0.15,\n",
        "  horizontal_flip=False,\n",
        "  fill_mode=\"nearest\")\n",
        "\n",
        "valid_aug = ImageDataGenerator(\n",
        "    rescale = 1./255\n",
        ")\n",
        "train_datagen = train_aug.flow(x_train, y_train, batch_size = batch_size)\n",
        "\n",
        "validation_datagen = valid_aug.flow(x_test, y_test, batch_size = batch_size)"
      ]
    },
    {
      "cell_type": "code",
      "execution_count": 18,
      "metadata": {
        "colab": {
          "base_uri": "https://localhost:8080/"
        },
        "id": "A4K6vQyba9x5",
        "outputId": "67416733-69ae-4abe-abc5-b7120450ad18"
      },
      "outputs": [
        {
          "output_type": "stream",
          "name": "stdout",
          "text": [
            "Model: \"sequential\"\n",
            "_________________________________________________________________\n",
            " Layer (type)                Output Shape              Param #   \n",
            "=================================================================\n",
            " conv2d (Conv2D)             (None, 30, 30, 32)        320       \n",
            "                                                                 \n",
            " max_pooling2d (MaxPooling2D  (None, 15, 15, 32)       0         \n",
            " )                                                               \n",
            "                                                                 \n",
            " conv2d_1 (Conv2D)           (None, 13, 13, 64)        18496     \n",
            "                                                                 \n",
            " max_pooling2d_1 (MaxPooling  (None, 6, 6, 64)         0         \n",
            " 2D)                                                             \n",
            "                                                                 \n",
            " conv2d_2 (Conv2D)           (None, 4, 4, 128)         73856     \n",
            "                                                                 \n",
            " max_pooling2d_2 (MaxPooling  (None, 2, 2, 128)        0         \n",
            " 2D)                                                             \n",
            "                                                                 \n",
            " flatten (Flatten)           (None, 512)               0         \n",
            "                                                                 \n",
            " dropout (Dropout)           (None, 512)               0         \n",
            "                                                                 \n",
            " dense (Dense)               (None, 512)               262656    \n",
            "                                                                 \n",
            " dense_1 (Dense)             (None, 36)                18468     \n",
            "                                                                 \n",
            "=================================================================\n",
            "Total params: 373,796\n",
            "Trainable params: 373,796\n",
            "Non-trainable params: 0\n",
            "_________________________________________________________________\n"
          ]
        }
      ],
      "source": [
        "model = tf.keras.Sequential([\n",
        "      tf.keras.layers.Conv2D(32,(3,3), activation ='relu', input_shape=(32,32,1)),\n",
        "      tf.keras.layers.MaxPooling2D(2,2),\n",
        "      tf.keras.layers.Conv2D(64,(3,3), activation ='relu'),\n",
        "      tf.keras.layers.MaxPooling2D(2,2),\n",
        "      tf.keras.layers.Conv2D(128,(3,3), activation ='relu'),\n",
        "      tf.keras.layers.MaxPooling2D(2,2),\n",
        "\n",
        "      tf.keras.layers.Flatten(),\n",
        "      tf.keras.layers.Dropout(0.5),\n",
        " \n",
        "      tf.keras.layers.Dense(512, activation = 'relu'),\n",
        "      tf.keras.layers.Dense(36, activation='softmax'),\n",
        "\n",
        "])\n",
        "model.build(input_shape = (None, 32, 32, 1))\n",
        "model.summary()"
      ]
    },
    {
      "cell_type": "code",
      "execution_count": 19,
      "metadata": {
        "id": "Hb0MwzF1bC5t"
      },
      "outputs": [],
      "source": [
        "# model = ResNet.build(32, 32, 1, len(le.classes_), (3, 3, 3),\n",
        "# # (64, 64, 128, 256), reg=0.0005)\n",
        "model.compile(loss = 'sparse_categorical_crossentropy',\n",
        "              optimizer = 'adam',\n",
        "              metrics = ['accuracy'])"
      ]
    },
    {
      "cell_type": "code",
      "execution_count": 20,
      "metadata": {
        "colab": {
          "base_uri": "https://localhost:8080/"
        },
        "id": "q35nqFnKbHZF",
        "outputId": "f35fba61-01d7-4731-ba9f-5402b619aee0"
      },
      "outputs": [
        {
          "output_type": "stream",
          "name": "stdout",
          "text": [
            "Epoch 1/100\n",
            "2765/2765 - 157s - loss: 1.3145 - accuracy: 0.6317 - val_loss: 0.3141 - val_accuracy: 0.9092 - 157s/epoch - 57ms/step\n",
            "Epoch 2/100\n",
            "2765/2765 - 147s - loss: 0.5326 - accuracy: 0.8399 - val_loss: 0.2197 - val_accuracy: 0.9328 - 147s/epoch - 53ms/step\n",
            "Epoch 3/100\n",
            "2765/2765 - 140s - loss: 0.4250 - accuracy: 0.8709 - val_loss: 0.1830 - val_accuracy: 0.9434 - 140s/epoch - 51ms/step\n",
            "Epoch 4/100\n",
            "2765/2765 - 141s - loss: 0.3653 - accuracy: 0.8880 - val_loss: 0.1702 - val_accuracy: 0.9469 - 141s/epoch - 51ms/step\n",
            "Epoch 5/100\n",
            "2765/2765 - 141s - loss: 0.3310 - accuracy: 0.8983 - val_loss: 0.1536 - val_accuracy: 0.9525 - 141s/epoch - 51ms/step\n",
            "Epoch 6/100\n",
            "2765/2765 - 141s - loss: 0.3075 - accuracy: 0.9053 - val_loss: 0.1524 - val_accuracy: 0.9546 - 141s/epoch - 51ms/step\n",
            "Epoch 7/100\n",
            "2765/2765 - 147s - loss: 0.2883 - accuracy: 0.9110 - val_loss: 0.1456 - val_accuracy: 0.9556 - 147s/epoch - 53ms/step\n",
            "Epoch 8/100\n",
            "2765/2765 - 144s - loss: 0.2759 - accuracy: 0.9148 - val_loss: 0.1368 - val_accuracy: 0.9582 - 144s/epoch - 52ms/step\n",
            "Epoch 9/100\n",
            "2765/2765 - 142s - loss: 0.2652 - accuracy: 0.9179 - val_loss: 0.1356 - val_accuracy: 0.9581 - 142s/epoch - 52ms/step\n",
            "Epoch 10/100\n",
            "2765/2765 - 141s - loss: 0.2558 - accuracy: 0.9210 - val_loss: 0.1301 - val_accuracy: 0.9598 - 141s/epoch - 51ms/step\n",
            "Epoch 11/100\n",
            "2765/2765 - 139s - loss: 0.2476 - accuracy: 0.9231 - val_loss: 0.1318 - val_accuracy: 0.9593 - 139s/epoch - 50ms/step\n",
            "Epoch 12/100\n",
            "2765/2765 - 140s - loss: 0.2424 - accuracy: 0.9242 - val_loss: 0.1345 - val_accuracy: 0.9588 - 140s/epoch - 51ms/step\n",
            "Epoch 13/100\n",
            "2765/2765 - 141s - loss: 0.2381 - accuracy: 0.9258 - val_loss: 0.1254 - val_accuracy: 0.9608 - 141s/epoch - 51ms/step\n",
            "Epoch 14/100\n",
            "2765/2765 - 138s - loss: 0.2311 - accuracy: 0.9277 - val_loss: 0.1245 - val_accuracy: 0.9607 - 138s/epoch - 50ms/step\n",
            "Epoch 15/100\n",
            "2765/2765 - 140s - loss: 0.2289 - accuracy: 0.9290 - val_loss: 0.1189 - val_accuracy: 0.9623 - 140s/epoch - 51ms/step\n",
            "Epoch 16/100\n",
            "2765/2765 - 140s - loss: 0.2233 - accuracy: 0.9304 - val_loss: 0.1213 - val_accuracy: 0.9622 - 140s/epoch - 51ms/step\n",
            "Epoch 17/100\n",
            "2765/2765 - 141s - loss: 0.2206 - accuracy: 0.9312 - val_loss: 0.1213 - val_accuracy: 0.9617 - 141s/epoch - 51ms/step\n",
            "Epoch 18/100\n",
            "2765/2765 - 139s - loss: 0.2167 - accuracy: 0.9325 - val_loss: 0.1204 - val_accuracy: 0.9617 - 139s/epoch - 50ms/step\n",
            "Epoch 19/100\n",
            "2765/2765 - 141s - loss: 0.2142 - accuracy: 0.9328 - val_loss: 0.1188 - val_accuracy: 0.9625 - 141s/epoch - 51ms/step\n",
            "Epoch 20/100\n",
            "2765/2765 - 141s - loss: 0.2110 - accuracy: 0.9339 - val_loss: 0.1161 - val_accuracy: 0.9639 - 141s/epoch - 51ms/step\n",
            "Epoch 21/100\n",
            "2765/2765 - 139s - loss: 0.2098 - accuracy: 0.9339 - val_loss: 0.1202 - val_accuracy: 0.9622 - 139s/epoch - 50ms/step\n",
            "Epoch 22/100\n",
            "2765/2765 - 140s - loss: 0.2064 - accuracy: 0.9353 - val_loss: 0.1204 - val_accuracy: 0.9623 - 140s/epoch - 51ms/step\n",
            "Epoch 23/100\n",
            "2765/2765 - 140s - loss: 0.2048 - accuracy: 0.9357 - val_loss: 0.1160 - val_accuracy: 0.9631 - 140s/epoch - 51ms/step\n",
            "Epoch 24/100\n",
            "2765/2765 - 139s - loss: 0.2038 - accuracy: 0.9361 - val_loss: 0.1126 - val_accuracy: 0.9636 - 139s/epoch - 50ms/step\n",
            "Epoch 25/100\n",
            "2765/2765 - 140s - loss: 0.2012 - accuracy: 0.9370 - val_loss: 0.1151 - val_accuracy: 0.9638 - 140s/epoch - 51ms/step\n",
            "Epoch 26/100\n",
            "2765/2765 - 143s - loss: 0.2008 - accuracy: 0.9371 - val_loss: 0.1188 - val_accuracy: 0.9633 - 143s/epoch - 52ms/step\n",
            "Epoch 27/100\n",
            "2765/2765 - 150s - loss: 0.1977 - accuracy: 0.9378 - val_loss: 0.1129 - val_accuracy: 0.9643 - 150s/epoch - 54ms/step\n",
            "Epoch 28/100\n",
            "2765/2765 - 144s - loss: 0.1956 - accuracy: 0.9386 - val_loss: 0.1116 - val_accuracy: 0.9647 - 144s/epoch - 52ms/step\n",
            "Epoch 29/100\n",
            "2765/2765 - 144s - loss: 0.1969 - accuracy: 0.9380 - val_loss: 0.1133 - val_accuracy: 0.9638 - 144s/epoch - 52ms/step\n",
            "Epoch 30/100\n",
            "2765/2765 - 144s - loss: 0.1941 - accuracy: 0.9389 - val_loss: 0.1127 - val_accuracy: 0.9640 - 144s/epoch - 52ms/step\n",
            "Epoch 31/100\n",
            "2765/2765 - 143s - loss: 0.1904 - accuracy: 0.9401 - val_loss: 0.1140 - val_accuracy: 0.9639 - 143s/epoch - 52ms/step\n",
            "Epoch 32/100\n",
            "2765/2765 - 142s - loss: 0.1923 - accuracy: 0.9391 - val_loss: 0.1159 - val_accuracy: 0.9631 - 142s/epoch - 51ms/step\n",
            "Epoch 33/100\n",
            "2765/2765 - 140s - loss: 0.1900 - accuracy: 0.9401 - val_loss: 0.1169 - val_accuracy: 0.9637 - 140s/epoch - 51ms/step\n",
            "Epoch 34/100\n",
            "2765/2765 - 144s - loss: 0.1893 - accuracy: 0.9404 - val_loss: 0.1163 - val_accuracy: 0.9627 - 144s/epoch - 52ms/step\n",
            "Epoch 35/100\n",
            "2765/2765 - 144s - loss: 0.1865 - accuracy: 0.9411 - val_loss: 0.1102 - val_accuracy: 0.9648 - 144s/epoch - 52ms/step\n",
            "Epoch 36/100\n",
            "2765/2765 - 143s - loss: 0.1855 - accuracy: 0.9409 - val_loss: 0.1144 - val_accuracy: 0.9645 - 143s/epoch - 52ms/step\n",
            "Epoch 37/100\n",
            "2765/2765 - 142s - loss: 0.1869 - accuracy: 0.9410 - val_loss: 0.1096 - val_accuracy: 0.9645 - 142s/epoch - 51ms/step\n",
            "Epoch 38/100\n",
            "2765/2765 - 143s - loss: 0.1861 - accuracy: 0.9416 - val_loss: 0.1102 - val_accuracy: 0.9644 - 143s/epoch - 52ms/step\n",
            "Epoch 39/100\n",
            "2765/2765 - 140s - loss: 0.1847 - accuracy: 0.9418 - val_loss: 0.1140 - val_accuracy: 0.9641 - 140s/epoch - 50ms/step\n",
            "Epoch 40/100\n",
            "2765/2765 - 140s - loss: 0.1830 - accuracy: 0.9423 - val_loss: 0.1079 - val_accuracy: 0.9649 - 140s/epoch - 51ms/step\n",
            "Epoch 41/100\n",
            "2765/2765 - 140s - loss: 0.1819 - accuracy: 0.9428 - val_loss: 0.1110 - val_accuracy: 0.9644 - 140s/epoch - 51ms/step\n",
            "Epoch 42/100\n",
            "2765/2765 - 142s - loss: 0.1820 - accuracy: 0.9422 - val_loss: 0.1110 - val_accuracy: 0.9651 - 142s/epoch - 51ms/step\n",
            "Epoch 43/100\n",
            "2765/2765 - 140s - loss: 0.1820 - accuracy: 0.9426 - val_loss: 0.1167 - val_accuracy: 0.9638 - 140s/epoch - 51ms/step\n",
            "Epoch 44/100\n",
            "2765/2765 - 140s - loss: 0.1800 - accuracy: 0.9428 - val_loss: 0.1085 - val_accuracy: 0.9656 - 140s/epoch - 51ms/step\n",
            "Epoch 45/100\n",
            "2765/2765 - 141s - loss: 0.1792 - accuracy: 0.9431 - val_loss: 0.1145 - val_accuracy: 0.9641 - 141s/epoch - 51ms/step\n",
            "Epoch 46/100\n",
            "2765/2765 - 146s - loss: 0.1785 - accuracy: 0.9432 - val_loss: 0.1078 - val_accuracy: 0.9654 - 146s/epoch - 53ms/step\n",
            "Epoch 47/100\n",
            "2765/2765 - 139s - loss: 0.1774 - accuracy: 0.9439 - val_loss: 0.1157 - val_accuracy: 0.9629 - 139s/epoch - 50ms/step\n",
            "Epoch 48/100\n",
            "2765/2765 - 140s - loss: 0.1782 - accuracy: 0.9433 - val_loss: 0.1079 - val_accuracy: 0.9647 - 140s/epoch - 51ms/step\n",
            "Epoch 49/100\n",
            "2765/2765 - 139s - loss: 0.1779 - accuracy: 0.9435 - val_loss: 0.1133 - val_accuracy: 0.9637 - 139s/epoch - 50ms/step\n",
            "Epoch 50/100\n",
            "2765/2765 - 138s - loss: 0.1767 - accuracy: 0.9439 - val_loss: 0.1099 - val_accuracy: 0.9641 - 138s/epoch - 50ms/step\n",
            "Epoch 51/100\n",
            "2765/2765 - 140s - loss: 0.1766 - accuracy: 0.9440 - val_loss: 0.1099 - val_accuracy: 0.9646 - 140s/epoch - 51ms/step\n",
            "Epoch 52/100\n",
            "2765/2765 - 141s - loss: 0.1754 - accuracy: 0.9445 - val_loss: 0.1098 - val_accuracy: 0.9646 - 141s/epoch - 51ms/step\n",
            "Epoch 53/100\n",
            "2765/2765 - 143s - loss: 0.1756 - accuracy: 0.9443 - val_loss: 0.1093 - val_accuracy: 0.9653 - 143s/epoch - 52ms/step\n",
            "Epoch 54/100\n",
            "2765/2765 - 146s - loss: 0.1748 - accuracy: 0.9449 - val_loss: 0.1055 - val_accuracy: 0.9655 - 146s/epoch - 53ms/step\n",
            "Epoch 55/100\n",
            "2765/2765 - 145s - loss: 0.1749 - accuracy: 0.9447 - val_loss: 0.1111 - val_accuracy: 0.9641 - 145s/epoch - 52ms/step\n",
            "Epoch 56/100\n",
            "2765/2765 - 150s - loss: 0.1748 - accuracy: 0.9447 - val_loss: 0.1115 - val_accuracy: 0.9651 - 150s/epoch - 54ms/step\n",
            "Epoch 57/100\n",
            "2765/2765 - 147s - loss: 0.1737 - accuracy: 0.9449 - val_loss: 0.1062 - val_accuracy: 0.9658 - 147s/epoch - 53ms/step\n",
            "Epoch 58/100\n",
            "2765/2765 - 147s - loss: 0.1730 - accuracy: 0.9454 - val_loss: 0.1162 - val_accuracy: 0.9639 - 147s/epoch - 53ms/step\n",
            "Epoch 59/100\n",
            "2765/2765 - 144s - loss: 0.1729 - accuracy: 0.9450 - val_loss: 0.1084 - val_accuracy: 0.9651 - 144s/epoch - 52ms/step\n",
            "Epoch 60/100\n",
            "2765/2765 - 144s - loss: 0.1715 - accuracy: 0.9454 - val_loss: 0.1096 - val_accuracy: 0.9653 - 144s/epoch - 52ms/step\n",
            "Epoch 61/100\n",
            "2765/2765 - 144s - loss: 0.1712 - accuracy: 0.9458 - val_loss: 0.1069 - val_accuracy: 0.9658 - 144s/epoch - 52ms/step\n",
            "Epoch 62/100\n",
            "2765/2765 - 142s - loss: 0.1710 - accuracy: 0.9459 - val_loss: 0.1076 - val_accuracy: 0.9648 - 142s/epoch - 51ms/step\n",
            "Epoch 63/100\n",
            "2765/2765 - 144s - loss: 0.1713 - accuracy: 0.9452 - val_loss: 0.1091 - val_accuracy: 0.9652 - 144s/epoch - 52ms/step\n",
            "Epoch 64/100\n",
            "2765/2765 - 144s - loss: 0.1702 - accuracy: 0.9458 - val_loss: 0.1052 - val_accuracy: 0.9659 - 144s/epoch - 52ms/step\n",
            "Epoch 65/100\n",
            "2765/2765 - 148s - loss: 0.1699 - accuracy: 0.9459 - val_loss: 0.1138 - val_accuracy: 0.9633 - 148s/epoch - 54ms/step\n",
            "Epoch 66/100\n",
            "2765/2765 - 144s - loss: 0.1702 - accuracy: 0.9456 - val_loss: 0.1107 - val_accuracy: 0.9642 - 144s/epoch - 52ms/step\n",
            "Epoch 67/100\n",
            "2765/2765 - 141s - loss: 0.1694 - accuracy: 0.9463 - val_loss: 0.1099 - val_accuracy: 0.9653 - 141s/epoch - 51ms/step\n",
            "Epoch 68/100\n",
            "2765/2765 - 145s - loss: 0.1689 - accuracy: 0.9462 - val_loss: 0.1058 - val_accuracy: 0.9657 - 145s/epoch - 53ms/step\n",
            "Epoch 69/100\n",
            "2765/2765 - 143s - loss: 0.1694 - accuracy: 0.9463 - val_loss: 0.1051 - val_accuracy: 0.9657 - 143s/epoch - 52ms/step\n",
            "Epoch 70/100\n",
            "2765/2765 - 143s - loss: 0.1695 - accuracy: 0.9460 - val_loss: 0.1051 - val_accuracy: 0.9661 - 143s/epoch - 52ms/step\n",
            "Epoch 71/100\n",
            "2765/2765 - 142s - loss: 0.1689 - accuracy: 0.9463 - val_loss: 0.1056 - val_accuracy: 0.9661 - 142s/epoch - 52ms/step\n",
            "Epoch 72/100\n",
            "2765/2765 - 140s - loss: 0.1683 - accuracy: 0.9465 - val_loss: 0.1117 - val_accuracy: 0.9642 - 140s/epoch - 51ms/step\n",
            "Epoch 73/100\n",
            "2765/2765 - 142s - loss: 0.1696 - accuracy: 0.9461 - val_loss: 0.1104 - val_accuracy: 0.9646 - 142s/epoch - 51ms/step\n",
            "Epoch 74/100\n",
            "2765/2765 - 147s - loss: 0.1661 - accuracy: 0.9472 - val_loss: 0.1076 - val_accuracy: 0.9658 - 147s/epoch - 53ms/step\n",
            "Epoch 75/100\n",
            "2765/2765 - 143s - loss: 0.1674 - accuracy: 0.9467 - val_loss: 0.1076 - val_accuracy: 0.9651 - 143s/epoch - 52ms/step\n",
            "Epoch 76/100\n",
            "2765/2765 - 147s - loss: 0.1679 - accuracy: 0.9468 - val_loss: 0.1143 - val_accuracy: 0.9639 - 147s/epoch - 53ms/step\n",
            "Epoch 77/100\n",
            "2765/2765 - 146s - loss: 0.1671 - accuracy: 0.9468 - val_loss: 0.1129 - val_accuracy: 0.9644 - 146s/epoch - 53ms/step\n",
            "Epoch 78/100\n",
            "2765/2765 - 139s - loss: 0.1667 - accuracy: 0.9470 - val_loss: 0.1066 - val_accuracy: 0.9663 - 139s/epoch - 50ms/step\n",
            "Epoch 79/100\n",
            "2765/2765 - 140s - loss: 0.1667 - accuracy: 0.9470 - val_loss: 0.1029 - val_accuracy: 0.9660 - 140s/epoch - 50ms/step\n",
            "Epoch 80/100\n",
            "2765/2765 - 146s - loss: 0.1666 - accuracy: 0.9470 - val_loss: 0.1051 - val_accuracy: 0.9656 - 146s/epoch - 53ms/step\n",
            "Epoch 81/100\n",
            "2765/2765 - 142s - loss: 0.1666 - accuracy: 0.9470 - val_loss: 0.1138 - val_accuracy: 0.9648 - 142s/epoch - 51ms/step\n",
            "Epoch 82/100\n",
            "2765/2765 - 147s - loss: 0.1662 - accuracy: 0.9473 - val_loss: 0.1060 - val_accuracy: 0.9656 - 147s/epoch - 53ms/step\n",
            "Epoch 83/100\n",
            "2765/2765 - 144s - loss: 0.1659 - accuracy: 0.9472 - val_loss: 0.1059 - val_accuracy: 0.9662 - 144s/epoch - 52ms/step\n",
            "Epoch 84/100\n",
            "2765/2765 - 143s - loss: 0.1650 - accuracy: 0.9477 - val_loss: 0.1048 - val_accuracy: 0.9670 - 143s/epoch - 52ms/step\n",
            "Epoch 85/100\n",
            "2765/2765 - 143s - loss: 0.1654 - accuracy: 0.9474 - val_loss: 0.1074 - val_accuracy: 0.9658 - 143s/epoch - 52ms/step\n",
            "Epoch 86/100\n",
            "2765/2765 - 141s - loss: 0.1634 - accuracy: 0.9479 - val_loss: 0.1115 - val_accuracy: 0.9647 - 141s/epoch - 51ms/step\n",
            "Epoch 87/100\n",
            "2765/2765 - 140s - loss: 0.1653 - accuracy: 0.9476 - val_loss: 0.1051 - val_accuracy: 0.9657 - 140s/epoch - 51ms/step\n",
            "Epoch 88/100\n",
            "2765/2765 - 141s - loss: 0.1650 - accuracy: 0.9474 - val_loss: 0.1112 - val_accuracy: 0.9660 - 141s/epoch - 51ms/step\n",
            "Epoch 89/100\n",
            "2765/2765 - 144s - loss: 0.1648 - accuracy: 0.9474 - val_loss: 0.1193 - val_accuracy: 0.9615 - 144s/epoch - 52ms/step\n",
            "Epoch 90/100\n",
            "2765/2765 - 140s - loss: 0.1639 - accuracy: 0.9482 - val_loss: 0.1108 - val_accuracy: 0.9659 - 140s/epoch - 51ms/step\n",
            "Epoch 91/100\n",
            "2765/2765 - 143s - loss: 0.1648 - accuracy: 0.9478 - val_loss: 0.1089 - val_accuracy: 0.9658 - 143s/epoch - 52ms/step\n",
            "Epoch 92/100\n",
            "2765/2765 - 145s - loss: 0.1632 - accuracy: 0.9478 - val_loss: 0.1108 - val_accuracy: 0.9649 - 145s/epoch - 52ms/step\n",
            "Epoch 93/100\n",
            "2765/2765 - 140s - loss: 0.1627 - accuracy: 0.9484 - val_loss: 0.1040 - val_accuracy: 0.9660 - 140s/epoch - 51ms/step\n",
            "Epoch 94/100\n",
            "2765/2765 - 144s - loss: 0.1626 - accuracy: 0.9481 - val_loss: 0.1080 - val_accuracy: 0.9646 - 144s/epoch - 52ms/step\n",
            "Epoch 95/100\n",
            "2765/2765 - 141s - loss: 0.1626 - accuracy: 0.9479 - val_loss: 0.1096 - val_accuracy: 0.9650 - 141s/epoch - 51ms/step\n",
            "Epoch 96/100\n",
            "2765/2765 - 141s - loss: 0.1632 - accuracy: 0.9478 - val_loss: 0.1086 - val_accuracy: 0.9653 - 141s/epoch - 51ms/step\n",
            "Epoch 97/100\n",
            "2765/2765 - 140s - loss: 0.1616 - accuracy: 0.9485 - val_loss: 0.1046 - val_accuracy: 0.9655 - 140s/epoch - 51ms/step\n",
            "Epoch 98/100\n",
            "2765/2765 - 139s - loss: 0.1615 - accuracy: 0.9484 - val_loss: 0.1056 - val_accuracy: 0.9658 - 139s/epoch - 50ms/step\n",
            "Epoch 99/100\n",
            "2765/2765 - 140s - loss: 0.1627 - accuracy: 0.9482 - val_loss: 0.1062 - val_accuracy: 0.9666 - 140s/epoch - 51ms/step\n",
            "Epoch 100/100\n",
            "2765/2765 - 145s - loss: 0.1634 - accuracy: 0.9478 - val_loss: 0.1077 - val_accuracy: 0.9656 - 145s/epoch - 52ms/step\n"
          ]
        }
      ],
      "source": [
        "History = model.fit(\n",
        "train_datagen,\n",
        "validation_data=validation_datagen,\n",
        "steps_per_epoch=len(x_train) // batch_size, \n",
        "epochs=EPOCHS,\n",
        "verbose=2)"
      ]
    },
    {
      "cell_type": "code",
      "execution_count": 21,
      "metadata": {
        "id": "6h-yvJaoL5gT"
      },
      "outputs": [],
      "source": [
        "!mkdir -p ocr_model\n",
        "model.save('ocr-model-dipta.h5')"
      ]
    },
    {
      "cell_type": "code",
      "execution_count": 22,
      "metadata": {
        "id": "SjIceyRCMZnD"
      },
      "outputs": [],
      "source": [
        "model = load_model('ocr-model-dipta.h5')"
      ]
    },
    {
      "cell_type": "code",
      "source": [
        "from google.colab import files\n",
        "files.download('ocr-model-dipta.h5')"
      ],
      "metadata": {
        "colab": {
          "base_uri": "https://localhost:8080/",
          "height": 17
        },
        "id": "j24Hn-AhQj_G",
        "outputId": "dd6585fc-cc73-4f27-b592-414189c96796"
      },
      "execution_count": 24,
      "outputs": [
        {
          "output_type": "display_data",
          "data": {
            "text/plain": [
              "<IPython.core.display.Javascript object>"
            ],
            "application/javascript": [
              "\n",
              "    async function download(id, filename, size) {\n",
              "      if (!google.colab.kernel.accessAllowed) {\n",
              "        return;\n",
              "      }\n",
              "      const div = document.createElement('div');\n",
              "      const label = document.createElement('label');\n",
              "      label.textContent = `Downloading \"${filename}\": `;\n",
              "      div.appendChild(label);\n",
              "      const progress = document.createElement('progress');\n",
              "      progress.max = size;\n",
              "      div.appendChild(progress);\n",
              "      document.body.appendChild(div);\n",
              "\n",
              "      const buffers = [];\n",
              "      let downloaded = 0;\n",
              "\n",
              "      const channel = await google.colab.kernel.comms.open(id);\n",
              "      // Send a message to notify the kernel that we're ready.\n",
              "      channel.send({})\n",
              "\n",
              "      for await (const message of channel.messages) {\n",
              "        // Send a message to notify the kernel that we're ready.\n",
              "        channel.send({})\n",
              "        if (message.buffers) {\n",
              "          for (const buffer of message.buffers) {\n",
              "            buffers.push(buffer);\n",
              "            downloaded += buffer.byteLength;\n",
              "            progress.value = downloaded;\n",
              "          }\n",
              "        }\n",
              "      }\n",
              "      const blob = new Blob(buffers, {type: 'application/binary'});\n",
              "      const a = document.createElement('a');\n",
              "      a.href = window.URL.createObjectURL(blob);\n",
              "      a.download = filename;\n",
              "      div.appendChild(a);\n",
              "      a.click();\n",
              "      div.remove();\n",
              "    }\n",
              "  "
            ]
          },
          "metadata": {}
        },
        {
          "output_type": "display_data",
          "data": {
            "text/plain": [
              "<IPython.core.display.Javascript object>"
            ],
            "application/javascript": [
              "download(\"download_b27b9631-bb3e-4d32-9596-a1fbba7f7cf2\", \"ocr-model-dipta.h5\", 4539088)"
            ]
          },
          "metadata": {}
        }
      ]
    },
    {
      "cell_type": "code",
      "source": [
        "model.save_weights('modeldipta_weights.h5')"
      ],
      "metadata": {
        "id": "i1yCv5aLRvmC"
      },
      "execution_count": 25,
      "outputs": []
    },
    {
      "cell_type": "code",
      "source": [
        "files.download('modeldipta_weights.h5')"
      ],
      "metadata": {
        "colab": {
          "base_uri": "https://localhost:8080/",
          "height": 17
        },
        "id": "6m53uVrSR7pS",
        "outputId": "8b472fe2-6ed8-4db9-b1c1-6472a6ef16e3"
      },
      "execution_count": 26,
      "outputs": [
        {
          "output_type": "display_data",
          "data": {
            "text/plain": [
              "<IPython.core.display.Javascript object>"
            ],
            "application/javascript": [
              "\n",
              "    async function download(id, filename, size) {\n",
              "      if (!google.colab.kernel.accessAllowed) {\n",
              "        return;\n",
              "      }\n",
              "      const div = document.createElement('div');\n",
              "      const label = document.createElement('label');\n",
              "      label.textContent = `Downloading \"${filename}\": `;\n",
              "      div.appendChild(label);\n",
              "      const progress = document.createElement('progress');\n",
              "      progress.max = size;\n",
              "      div.appendChild(progress);\n",
              "      document.body.appendChild(div);\n",
              "\n",
              "      const buffers = [];\n",
              "      let downloaded = 0;\n",
              "\n",
              "      const channel = await google.colab.kernel.comms.open(id);\n",
              "      // Send a message to notify the kernel that we're ready.\n",
              "      channel.send({})\n",
              "\n",
              "      for await (const message of channel.messages) {\n",
              "        // Send a message to notify the kernel that we're ready.\n",
              "        channel.send({})\n",
              "        if (message.buffers) {\n",
              "          for (const buffer of message.buffers) {\n",
              "            buffers.push(buffer);\n",
              "            downloaded += buffer.byteLength;\n",
              "            progress.value = downloaded;\n",
              "          }\n",
              "        }\n",
              "      }\n",
              "      const blob = new Blob(buffers, {type: 'application/binary'});\n",
              "      const a = document.createElement('a');\n",
              "      a.href = window.URL.createObjectURL(blob);\n",
              "      a.download = filename;\n",
              "      div.appendChild(a);\n",
              "      a.click();\n",
              "      div.remove();\n",
              "    }\n",
              "  "
            ]
          },
          "metadata": {}
        },
        {
          "output_type": "display_data",
          "data": {
            "text/plain": [
              "<IPython.core.display.Javascript object>"
            ],
            "application/javascript": [
              "download(\"download_27a4d788-af92-4ca1-a347-3ce892a2752d\", \"modeldipta_weights.h5\", 1521760)"
            ]
          },
          "metadata": {}
        }
      ]
    }
  ],
  "metadata": {
    "colab": {
      "provenance": [],
      "gpuType": "T4",
      "mount_file_id": "125czWOUEIoe5FsVT1qyvFl8ybQW59ljb",
      "authorship_tag": "ABX9TyOI5Qv+7Dc5hzyYn9AVLt/l",
      "include_colab_link": true
    },
    "gpuClass": "standard",
    "kernelspec": {
      "display_name": "Python 3",
      "name": "python3"
    },
    "language_info": {
      "name": "python"
    },
    "accelerator": "GPU"
  },
  "nbformat": 4,
  "nbformat_minor": 0
}